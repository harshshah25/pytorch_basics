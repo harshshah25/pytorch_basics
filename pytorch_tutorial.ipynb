{
  "nbformat": 4,
  "nbformat_minor": 0,
  "metadata": {
    "colab": {
      "provenance": []
    },
    "kernelspec": {
      "name": "python3",
      "display_name": "Python 3"
    },
    "language_info": {
      "name": "python"
    }
  },
  "cells": [
    {
      "cell_type": "code",
      "execution_count": 5,
      "metadata": {
        "colab": {
          "base_uri": "https://localhost:8080/"
        },
        "id": "3p0dmSbmYK_h",
        "outputId": "839acb02-0899-4be6-ba07-ad9055dec2e9"
      },
      "outputs": [
        {
          "output_type": "stream",
          "name": "stdout",
          "text": [
            "Requirement already satisfied: torch in /usr/local/lib/python3.10/dist-packages (2.3.1+cu121)\n",
            "Requirement already satisfied: filelock in /usr/local/lib/python3.10/dist-packages (from torch) (3.15.4)\n",
            "Requirement already satisfied: typing-extensions>=4.8.0 in /usr/local/lib/python3.10/dist-packages (from torch) (4.12.2)\n",
            "Requirement already satisfied: sympy in /usr/local/lib/python3.10/dist-packages (from torch) (1.13.0)\n",
            "Requirement already satisfied: networkx in /usr/local/lib/python3.10/dist-packages (from torch) (3.3)\n",
            "Requirement already satisfied: jinja2 in /usr/local/lib/python3.10/dist-packages (from torch) (3.1.4)\n",
            "Requirement already satisfied: fsspec in /usr/local/lib/python3.10/dist-packages (from torch) (2023.6.0)\n",
            "Requirement already satisfied: nvidia-cuda-nvrtc-cu12==12.1.105 in /usr/local/lib/python3.10/dist-packages (from torch) (12.1.105)\n",
            "Requirement already satisfied: nvidia-cuda-runtime-cu12==12.1.105 in /usr/local/lib/python3.10/dist-packages (from torch) (12.1.105)\n",
            "Requirement already satisfied: nvidia-cuda-cupti-cu12==12.1.105 in /usr/local/lib/python3.10/dist-packages (from torch) (12.1.105)\n",
            "Requirement already satisfied: nvidia-cudnn-cu12==8.9.2.26 in /usr/local/lib/python3.10/dist-packages (from torch) (8.9.2.26)\n",
            "Requirement already satisfied: nvidia-cublas-cu12==12.1.3.1 in /usr/local/lib/python3.10/dist-packages (from torch) (12.1.3.1)\n",
            "Requirement already satisfied: nvidia-cufft-cu12==11.0.2.54 in /usr/local/lib/python3.10/dist-packages (from torch) (11.0.2.54)\n",
            "Requirement already satisfied: nvidia-curand-cu12==10.3.2.106 in /usr/local/lib/python3.10/dist-packages (from torch) (10.3.2.106)\n",
            "Requirement already satisfied: nvidia-cusolver-cu12==11.4.5.107 in /usr/local/lib/python3.10/dist-packages (from torch) (11.4.5.107)\n",
            "Requirement already satisfied: nvidia-cusparse-cu12==12.1.0.106 in /usr/local/lib/python3.10/dist-packages (from torch) (12.1.0.106)\n",
            "Requirement already satisfied: nvidia-nccl-cu12==2.20.5 in /usr/local/lib/python3.10/dist-packages (from torch) (2.20.5)\n",
            "Requirement already satisfied: nvidia-nvtx-cu12==12.1.105 in /usr/local/lib/python3.10/dist-packages (from torch) (12.1.105)\n",
            "Requirement already satisfied: triton==2.3.1 in /usr/local/lib/python3.10/dist-packages (from torch) (2.3.1)\n",
            "Requirement already satisfied: nvidia-nvjitlink-cu12 in /usr/local/lib/python3.10/dist-packages (from nvidia-cusolver-cu12==11.4.5.107->torch) (12.5.82)\n",
            "Requirement already satisfied: MarkupSafe>=2.0 in /usr/local/lib/python3.10/dist-packages (from jinja2->torch) (2.1.5)\n",
            "Requirement already satisfied: mpmath<1.4,>=1.1.0 in /usr/local/lib/python3.10/dist-packages (from sympy->torch) (1.3.0)\n"
          ]
        }
      ],
      "source": [
        "pip install torch"
      ]
    },
    {
      "cell_type": "code",
      "source": [
        "import torch"
      ],
      "metadata": {
        "id": "gn2kYphiYRkg"
      },
      "execution_count": 6,
      "outputs": []
    },
    {
      "cell_type": "code",
      "source": [
        "#Create a Tensor\n",
        "t1 = torch.empty(3)\n",
        "t1"
      ],
      "metadata": {
        "colab": {
          "base_uri": "https://localhost:8080/"
        },
        "id": "fjfuNdAaYuYQ",
        "outputId": "66e9ae31-dc1f-4ba6-b7ee-4f9a30d90656"
      },
      "execution_count": 13,
      "outputs": [
        {
          "output_type": "execute_result",
          "data": {
            "text/plain": [
              "tensor([ 2.0971e+08,  3.3477e-41, -3.8810e+07])"
            ]
          },
          "metadata": {},
          "execution_count": 13
        }
      ]
    },
    {
      "cell_type": "code",
      "source": [
        "t1.dtype"
      ],
      "metadata": {
        "colab": {
          "base_uri": "https://localhost:8080/"
        },
        "id": "VAJ7L9PiZCg-",
        "outputId": "ea4cd010-760d-4a50-a4e0-0aaa51dcda11"
      },
      "execution_count": 11,
      "outputs": [
        {
          "output_type": "execute_result",
          "data": {
            "text/plain": [
              "torch.float32"
            ]
          },
          "metadata": {},
          "execution_count": 11
        }
      ]
    },
    {
      "cell_type": "code",
      "source": [
        "t2 = torch.empty(3, dtype = torch.int)\n",
        "t2"
      ],
      "metadata": {
        "colab": {
          "base_uri": "https://localhost:8080/"
        },
        "id": "Jejs7rsJZ7--",
        "outputId": "92c5a5a1-dad1-48c9-c72d-358e826c7ddf"
      },
      "execution_count": 14,
      "outputs": [
        {
          "output_type": "execute_result",
          "data": {
            "text/plain": [
              "tensor([1298388880,      23890, 1298614736], dtype=torch.int32)"
            ]
          },
          "metadata": {},
          "execution_count": 14
        }
      ]
    },
    {
      "cell_type": "code",
      "source": [
        "t3 = torch.rand(5, 4, 3)\n",
        "t3"
      ],
      "metadata": {
        "colab": {
          "base_uri": "https://localhost:8080/"
        },
        "id": "ryq9qAWxaz__",
        "outputId": "ebea56a7-bbcd-4b28-fd5b-be93b38ee29f"
      },
      "execution_count": 15,
      "outputs": [
        {
          "output_type": "execute_result",
          "data": {
            "text/plain": [
              "tensor([[[0.9433, 0.3017, 0.1080],\n",
              "         [0.8922, 0.6660, 0.4278],\n",
              "         [0.4913, 0.4716, 0.7162],\n",
              "         [0.2328, 0.7611, 0.0291]],\n",
              "\n",
              "        [[0.6427, 0.8113, 0.1435],\n",
              "         [0.7683, 0.2323, 0.6801],\n",
              "         [0.4698, 0.3818, 0.1200],\n",
              "         [0.4138, 0.7633, 0.3577]],\n",
              "\n",
              "        [[0.1625, 0.2184, 0.9584],\n",
              "         [0.3190, 0.8168, 0.1474],\n",
              "         [0.2504, 0.8816, 0.8433],\n",
              "         [0.8970, 0.6581, 0.2041]],\n",
              "\n",
              "        [[0.5342, 0.9510, 0.7856],\n",
              "         [0.8242, 0.5481, 0.6311],\n",
              "         [0.7163, 0.4224, 0.7762],\n",
              "         [0.5893, 0.1326, 0.5183]],\n",
              "\n",
              "        [[0.6770, 0.5246, 0.8517],\n",
              "         [0.9777, 0.6007, 0.7998],\n",
              "         [0.8109, 0.6678, 0.2574],\n",
              "         [0.4212, 0.2145, 0.7734]]])"
            ]
          },
          "metadata": {},
          "execution_count": 15
        }
      ]
    },
    {
      "cell_type": "code",
      "source": [
        "t3.dtype"
      ],
      "metadata": {
        "colab": {
          "base_uri": "https://localhost:8080/"
        },
        "id": "OcCPLEcCa8Ic",
        "outputId": "a0fb2cbb-69eb-410b-9acd-ec6f51ed0f8a"
      },
      "execution_count": 16,
      "outputs": [
        {
          "output_type": "execute_result",
          "data": {
            "text/plain": [
              "torch.float32"
            ]
          },
          "metadata": {},
          "execution_count": 16
        }
      ]
    },
    {
      "cell_type": "code",
      "source": [
        "t4 = torch.randint(0, 20, [5, 4])\n",
        "t4"
      ],
      "metadata": {
        "colab": {
          "base_uri": "https://localhost:8080/"
        },
        "id": "Ekq5tInxbYCj",
        "outputId": "da5ab84c-16ce-4cf4-8d98-56a3bb189a3e"
      },
      "execution_count": 18,
      "outputs": [
        {
          "output_type": "execute_result",
          "data": {
            "text/plain": [
              "tensor([[ 7, 12,  1, 18],\n",
              "        [13, 15, 12,  1],\n",
              "        [15,  1, 17,  5],\n",
              "        [ 3, 16, 18, 10],\n",
              "        [ 5,  3, 13, 19]])"
            ]
          },
          "metadata": {},
          "execution_count": 18
        }
      ]
    },
    {
      "cell_type": "code",
      "source": [
        "t5 = torch.zeros(2, 3)\n",
        "t5"
      ],
      "metadata": {
        "colab": {
          "base_uri": "https://localhost:8080/"
        },
        "id": "0EVKQrz4bij_",
        "outputId": "5488058b-d53f-48ec-ddd2-5226aefb00d5"
      },
      "execution_count": 19,
      "outputs": [
        {
          "output_type": "execute_result",
          "data": {
            "text/plain": [
              "tensor([[0., 0., 0.],\n",
              "        [0., 0., 0.]])"
            ]
          },
          "metadata": {},
          "execution_count": 19
        }
      ]
    },
    {
      "cell_type": "code",
      "source": [
        "t6 = torch.ones([2, 3, 4], dtype = torch.int)\n",
        "t6"
      ],
      "metadata": {
        "colab": {
          "base_uri": "https://localhost:8080/"
        },
        "id": "3VRqVK71boWa",
        "outputId": "69502dab-c750-4fad-be3a-8dc86b1c1620"
      },
      "execution_count": 22,
      "outputs": [
        {
          "output_type": "execute_result",
          "data": {
            "text/plain": [
              "tensor([[[1, 1, 1, 1],\n",
              "         [1, 1, 1, 1],\n",
              "         [1, 1, 1, 1]],\n",
              "\n",
              "        [[1, 1, 1, 1],\n",
              "         [1, 1, 1, 1],\n",
              "         [1, 1, 1, 1]]], dtype=torch.int32)"
            ]
          },
          "metadata": {},
          "execution_count": 22
        }
      ]
    },
    {
      "cell_type": "code",
      "source": [
        "t6.dtype"
      ],
      "metadata": {
        "colab": {
          "base_uri": "https://localhost:8080/"
        },
        "id": "vvlkL5JabtQj",
        "outputId": "7d46dec4-b662-4392-baef-06dbf6c3acd9"
      },
      "execution_count": 23,
      "outputs": [
        {
          "output_type": "execute_result",
          "data": {
            "text/plain": [
              "torch.int32"
            ]
          },
          "metadata": {},
          "execution_count": 23
        }
      ]
    },
    {
      "cell_type": "code",
      "source": [
        "t6.size()"
      ],
      "metadata": {
        "colab": {
          "base_uri": "https://localhost:8080/"
        },
        "id": "7ShgdTeXbvz1",
        "outputId": "1e823226-0652-4e77-d92e-a7e5a383bbc1"
      },
      "execution_count": 24,
      "outputs": [
        {
          "output_type": "execute_result",
          "data": {
            "text/plain": [
              "torch.Size([2, 3, 4])"
            ]
          },
          "metadata": {},
          "execution_count": 24
        }
      ]
    },
    {
      "cell_type": "code",
      "source": [
        "t6.dim()"
      ],
      "metadata": {
        "colab": {
          "base_uri": "https://localhost:8080/"
        },
        "id": "8ftmXX_LcBg2",
        "outputId": "fdfb0985-74f9-4a1a-a4b3-d78910a32c2b"
      },
      "execution_count": 25,
      "outputs": [
        {
          "output_type": "execute_result",
          "data": {
            "text/plain": [
              "3"
            ]
          },
          "metadata": {},
          "execution_count": 25
        }
      ]
    },
    {
      "cell_type": "code",
      "source": [
        "import numpy as np"
      ],
      "metadata": {
        "id": "OeV_cMJ3cDm_"
      },
      "execution_count": 26,
      "outputs": []
    },
    {
      "cell_type": "code",
      "source": [
        "arr = np.ones([2, 3])\n",
        "arr"
      ],
      "metadata": {
        "colab": {
          "base_uri": "https://localhost:8080/"
        },
        "id": "csAZdUzmcJOk",
        "outputId": "61ffe553-7825-41be-9b66-a4b2036162e8"
      },
      "execution_count": 27,
      "outputs": [
        {
          "output_type": "execute_result",
          "data": {
            "text/plain": [
              "array([[1., 1., 1.],\n",
              "       [1., 1., 1.]])"
            ]
          },
          "metadata": {},
          "execution_count": 27
        }
      ]
    },
    {
      "cell_type": "code",
      "source": [
        "t7 = torch.tensor(arr)\n",
        "t7"
      ],
      "metadata": {
        "colab": {
          "base_uri": "https://localhost:8080/"
        },
        "id": "U0sMnKc_cNsg",
        "outputId": "6f76528e-6215-4489-89bf-b95b7b173633"
      },
      "execution_count": 28,
      "outputs": [
        {
          "output_type": "execute_result",
          "data": {
            "text/plain": [
              "tensor([[1., 1., 1.],\n",
              "        [1., 1., 1.]], dtype=torch.float64)"
            ]
          },
          "metadata": {},
          "execution_count": 28
        }
      ]
    },
    {
      "cell_type": "code",
      "source": [
        "#Inplace Operator\n",
        "t8 = torch.ones(2,3, dtype = torch.int)\n",
        "t8"
      ],
      "metadata": {
        "colab": {
          "base_uri": "https://localhost:8080/"
        },
        "id": "ucvdd8ArcU7w",
        "outputId": "f82a4f13-2c43-45ea-a705-bcb9c7fb91b8"
      },
      "execution_count": 29,
      "outputs": [
        {
          "output_type": "execute_result",
          "data": {
            "text/plain": [
              "tensor([[1, 1, 1],\n",
              "        [1, 1, 1]], dtype=torch.int32)"
            ]
          },
          "metadata": {},
          "execution_count": 29
        }
      ]
    },
    {
      "cell_type": "code",
      "source": [
        "t9 = torch.ones(2,3, dtype = torch.int)"
      ],
      "metadata": {
        "id": "AgMw6yvFche1"
      },
      "execution_count": 30,
      "outputs": []
    },
    {
      "cell_type": "code",
      "source": [
        "t10 = torch.add(t8 , t9)"
      ],
      "metadata": {
        "id": "GIDAyBOQcyVh"
      },
      "execution_count": 31,
      "outputs": []
    },
    {
      "cell_type": "code",
      "source": [
        "t10"
      ],
      "metadata": {
        "colab": {
          "base_uri": "https://localhost:8080/"
        },
        "id": "a8vB-sqvc2_M",
        "outputId": "4f830a5c-1e8f-4687-e3cc-9a03e6bc58d2"
      },
      "execution_count": 32,
      "outputs": [
        {
          "output_type": "execute_result",
          "data": {
            "text/plain": [
              "tensor([[2, 2, 2],\n",
              "        [2, 2, 2]], dtype=torch.int32)"
            ]
          },
          "metadata": {},
          "execution_count": 32
        }
      ]
    },
    {
      "cell_type": "code",
      "source": [
        "t9.add_(t8)"
      ],
      "metadata": {
        "colab": {
          "base_uri": "https://localhost:8080/"
        },
        "id": "QtlH7RAfc3w8",
        "outputId": "ee381d5b-3e12-4274-a54f-2bfdce1efe16"
      },
      "execution_count": 33,
      "outputs": [
        {
          "output_type": "execute_result",
          "data": {
            "text/plain": [
              "tensor([[2, 2, 2],\n",
              "        [2, 2, 2]], dtype=torch.int32)"
            ]
          },
          "metadata": {},
          "execution_count": 33
        }
      ]
    },
    {
      "cell_type": "code",
      "source": [
        "t9"
      ],
      "metadata": {
        "colab": {
          "base_uri": "https://localhost:8080/"
        },
        "id": "KxaD4dGRdETP",
        "outputId": "c3874262-7699-4cb5-d7e7-7e46f98a28ed"
      },
      "execution_count": 34,
      "outputs": [
        {
          "output_type": "execute_result",
          "data": {
            "text/plain": [
              "tensor([[2, 2, 2],\n",
              "        [2, 2, 2]], dtype=torch.int32)"
            ]
          },
          "metadata": {},
          "execution_count": 34
        }
      ]
    },
    {
      "cell_type": "code",
      "source": [
        "t9.sub_(t8)"
      ],
      "metadata": {
        "colab": {
          "base_uri": "https://localhost:8080/"
        },
        "id": "h5M5IImJdFXv",
        "outputId": "601d2736-8c13-44dc-a049-d5315e4db326"
      },
      "execution_count": 35,
      "outputs": [
        {
          "output_type": "execute_result",
          "data": {
            "text/plain": [
              "tensor([[1, 1, 1],\n",
              "        [1, 1, 1]], dtype=torch.int32)"
            ]
          },
          "metadata": {},
          "execution_count": 35
        }
      ]
    },
    {
      "cell_type": "code",
      "source": [
        "#Reshaping the tensors\n",
        "t7.size()"
      ],
      "metadata": {
        "colab": {
          "base_uri": "https://localhost:8080/"
        },
        "id": "8P0r8BkLdJdq",
        "outputId": "9e4a9f11-7699-4b2e-f523-ef211bc22c7b"
      },
      "execution_count": 36,
      "outputs": [
        {
          "output_type": "execute_result",
          "data": {
            "text/plain": [
              "torch.Size([2, 3])"
            ]
          },
          "metadata": {},
          "execution_count": 36
        }
      ]
    },
    {
      "cell_type": "code",
      "source": [
        "t7.reshape(3,2)"
      ],
      "metadata": {
        "colab": {
          "base_uri": "https://localhost:8080/"
        },
        "id": "tsqAqRKbdTFm",
        "outputId": "6a6650db-ce57-40ac-cb85-ac789be09add"
      },
      "execution_count": 37,
      "outputs": [
        {
          "output_type": "execute_result",
          "data": {
            "text/plain": [
              "tensor([[1., 1.],\n",
              "        [1., 1.],\n",
              "        [1., 1.]], dtype=torch.float64)"
            ]
          },
          "metadata": {},
          "execution_count": 37
        }
      ]
    },
    {
      "cell_type": "code",
      "source": [
        "#Tensor Broadcasting\n",
        "t7.size()"
      ],
      "metadata": {
        "colab": {
          "base_uri": "https://localhost:8080/"
        },
        "id": "dIZq1yH2dWVy",
        "outputId": "e35ee84b-3173-4062-da4c-e492b5429d37"
      },
      "execution_count": 38,
      "outputs": [
        {
          "output_type": "execute_result",
          "data": {
            "text/plain": [
              "torch.Size([2, 3])"
            ]
          },
          "metadata": {},
          "execution_count": 38
        }
      ]
    },
    {
      "cell_type": "code",
      "source": [
        "t6.size()"
      ],
      "metadata": {
        "colab": {
          "base_uri": "https://localhost:8080/"
        },
        "id": "jfAmj_H3dgAN",
        "outputId": "2d95bb03-d4d4-4a25-f943-0cc958b68b7d"
      },
      "execution_count": 39,
      "outputs": [
        {
          "output_type": "execute_result",
          "data": {
            "text/plain": [
              "torch.Size([2, 3, 4])"
            ]
          },
          "metadata": {},
          "execution_count": 39
        }
      ]
    },
    {
      "cell_type": "code",
      "source": [
        "# To add:\n",
        "# equal shapes\n",
        "# one of the dimensions has to be one."
      ],
      "metadata": {
        "id": "itne6x14dn6i"
      },
      "execution_count": 75,
      "outputs": []
    },
    {
      "cell_type": "code",
      "source": [
        "x = torch.empty(5,4,3,1)"
      ],
      "metadata": {
        "id": "bUhkAeg6dtGV"
      },
      "execution_count": 42,
      "outputs": []
    },
    {
      "cell_type": "code",
      "source": [
        "y = torch.empty(1,3,5)"
      ],
      "metadata": {
        "id": "-WxQ2LWad2Nv"
      },
      "execution_count": 43,
      "outputs": []
    },
    {
      "cell_type": "code",
      "source": [
        "z = torch.add(x, y)"
      ],
      "metadata": {
        "id": "xjQsrkwGd7Md"
      },
      "execution_count": 44,
      "outputs": []
    },
    {
      "cell_type": "code",
      "source": [
        "z"
      ],
      "metadata": {
        "colab": {
          "base_uri": "https://localhost:8080/"
        },
        "id": "ezzl72O4d_B7",
        "outputId": "25e06188-be06-4dec-badc-27418f53ce59"
      },
      "execution_count": 45,
      "outputs": [
        {
          "output_type": "execute_result",
          "data": {
            "text/plain": [
              "tensor([[[[-7.7623e+07, -3.8812e+07,  2.0890e+08, -3.8812e+07, -3.8812e+07],\n",
              "          [ 4.3313e-41,  4.3470e-41,  4.3313e-41, -2.5637e-24,  7.6797e-41],\n",
              "          [ 4.5401e+08,  2.4404e+08,  2.8274e+08,  2.4404e+08,  2.4404e+08]],\n",
              "\n",
              "         [[-3.8811e+07,  7.6790e-41,  2.4772e+08,  6.6954e-41,  3.3522e-41],\n",
              "          [ 4.4842e-44,  2.0179e-43,  4.4842e-44, -2.5637e-24,  3.3529e-41],\n",
              "          [ 2.0997e+08,  3.3477e-41,  3.8701e+07,  3.3477e-41, -2.1899e-33]],\n",
              "\n",
              "         [[-3.8811e+07,  4.3470e-41,  2.4772e+08,  3.3634e-41,  2.0179e-43],\n",
              "          [ 0.0000e+00,  1.5695e-43,  0.0000e+00, -2.5637e-24,  3.3484e-41],\n",
              "          [ 2.0997e+08, -2.5470e-24,  3.8701e+07, -2.5470e-24, -2.5470e-24]],\n",
              "\n",
              "         [[-3.8811e+07,  7.6797e-41,  2.4772e+08,  6.6961e-41,  3.3529e-41],\n",
              "          [ 5.3639e-08,  5.3639e-08,  5.3639e-08,  5.3639e-08,  5.3639e-08],\n",
              "          [ 6.7360e+22,  6.7360e+22,  6.7360e+22,  6.7360e+22,  6.7360e+22]]],\n",
              "\n",
              "\n",
              "        [[[ 4.1541e+21,  4.1541e+21,  4.1541e+21,  4.1541e+21,  4.1541e+21],\n",
              "          [ 3.3237e+21,  3.3237e+21,  3.3237e+21,  3.3237e+21,  3.3237e+21],\n",
              "          [ 7.9963e+20,  7.9963e+20,  7.9963e+20,  7.9963e+20,  7.9963e+20]],\n",
              "\n",
              "         [[-3.8811e+07,  1.0197e-11,  2.4772e+08,  1.0197e-11,  1.0197e-11],\n",
              "          [ 3.3088e-09,  3.3088e-09,  3.3088e-09,  3.3088e-09,  3.3088e-09],\n",
              "          [ 2.0997e+08,  1.3542e-05,  3.8701e+07,  1.3542e-05,  1.3542e-05]],\n",
              "\n",
              "         [[ 1.6925e+22,  1.6925e+22,  1.6925e+22,  1.6925e+22,  1.6925e+22],\n",
              "          [ 1.9433e-19,  1.9433e-19,  1.9433e-19,  1.9432e-19,  1.9433e-19],\n",
              "          [ 2.0997e+08,  3.3634e-41,  3.8701e+07,  3.3634e-41, -2.1899e-33]],\n",
              "\n",
              "         [[-3.8811e+07,  4.3313e-41,  2.4772e+08,  3.3477e-41,  4.4842e-44],\n",
              "          [ 4.0498e-43,  5.6192e-43,  4.0498e-43, -2.5637e-24,  3.3889e-41],\n",
              "          [ 2.0997e+08,  3.3477e-41,  3.8701e+07,  3.3477e-41, -2.1899e-33]]],\n",
              "\n",
              "\n",
              "        [[[ 2.0894e+08,  2.4775e+08,  4.9546e+08,  2.4775e+08,  2.4775e+08],\n",
              "          [ 3.3477e-41,  3.3634e-41,  3.3477e-41, -2.5637e-24,  6.6961e-41],\n",
              "          [ 1.7116e+08, -3.8812e+07, -1.1014e+05, -3.8812e+07, -3.8812e+07]],\n",
              "\n",
              "         [[-3.8811e+07,  8.6625e-41,  2.4772e+08,  7.6790e-41,  4.3358e-41],\n",
              "          [ 0.0000e+00,  1.5695e-43,  0.0000e+00, -2.5637e-24,  3.3484e-41],\n",
              "          [ 2.0997e+08,  3.3477e-41,  3.8701e+07,  3.3477e-41, -2.1899e-33]],\n",
              "\n",
              "         [[-3.8811e+07,  4.3313e-41,  2.4772e+08,  3.3477e-41,  4.4842e-44],\n",
              "          [ 0.0000e+00,  1.5695e-43,  0.0000e+00, -2.5637e-24,  3.3484e-41],\n",
              "          [ 2.0997e+08,  3.3477e-41,  3.8701e+07,  3.3477e-41, -2.1899e-33]],\n",
              "\n",
              "         [[-3.8811e+07,  7.6790e-41,  2.4772e+08,  6.6954e-41,  3.3522e-41],\n",
              "          [ 3.3771e-43,  4.9466e-43,  3.3771e-43, -2.5637e-24,  3.3822e-41],\n",
              "          [ 2.0997e+08,  3.3477e-41,  3.8701e+07,  3.3477e-41, -2.1899e-33]]],\n",
              "\n",
              "\n",
              "        [[[-7.7622e+07, -3.8810e+07,  2.0891e+08, -3.8810e+07, -3.8810e+07],\n",
              "          [ 4.3313e-41,  4.3470e-41,  4.3313e-41, -2.5637e-24,  7.6797e-41],\n",
              "          [ 4.5860e+08,  2.4864e+08,  2.8734e+08,  2.4864e+08,  2.4864e+08]],\n",
              "\n",
              "         [[-3.8811e+07,  7.6790e-41,  2.4772e+08,  6.6954e-41,  3.3522e-41],\n",
              "          [ 3.3088e-09,  3.3088e-09,  3.3088e-09,  3.3088e-09,  3.3088e-09],\n",
              "          [ 2.0997e+08,  1.3542e-05,  3.8701e+07,  1.3542e-05,  1.3542e-05]],\n",
              "\n",
              "         [[ 1.6925e+22,  1.6925e+22,  1.6925e+22,  1.6925e+22,  1.6925e+22],\n",
              "          [ 8.4832e-33,  8.4832e-33,  8.4832e-33, -2.5637e-24,  8.4832e-33],\n",
              "          [ 2.0997e+08,  3.3612e-41,  3.8701e+07,  3.3612e-41, -2.1899e-33]],\n",
              "\n",
              "         [[-3.8811e+07,  4.3313e-41,  2.4772e+08,  3.3477e-41,  4.4842e-44],\n",
              "          [ 2.6905e-43,  4.2599e-43,  2.6905e-43, -2.5637e-24,  3.3753e-41],\n",
              "          [ 2.0997e+08,  3.3477e-41,  3.8701e+07,  3.3477e-41, -2.1899e-33]]],\n",
              "\n",
              "\n",
              "        [[[ 2.0898e+08,  2.4779e+08,  4.9551e+08,  2.4779e+08,  2.4779e+08],\n",
              "          [ 3.3477e-41,  3.3634e-41,  3.3477e-41, -2.5637e-24,  6.6961e-41],\n",
              "          [ 2.0997e+08,  3.3665e-41,  3.8701e+07,  3.3665e-41, -2.1899e-33]],\n",
              "\n",
              "         [[-3.8811e+07,  4.3313e-41,  2.4772e+08,  3.3477e-41,  4.4842e-44],\n",
              "          [ 0.0000e+00,  1.5695e-43,  0.0000e+00, -2.5637e-24,  3.3484e-41],\n",
              "          [ 2.0997e+08,  3.3477e-41,  3.8701e+07,  3.3477e-41, -2.1899e-33]],\n",
              "\n",
              "         [[-3.8811e+07,  4.3313e-41,  2.4772e+08,  3.3477e-41,  4.4842e-44],\n",
              "          [ 0.0000e+00,  1.5695e-43,  0.0000e+00, -2.5637e-24,  3.3484e-41],\n",
              "          [ 2.0997e+08,  3.3477e-41,  3.8701e+07,  3.3477e-41, -2.1899e-33]],\n",
              "\n",
              "         [[-3.8811e+07,  1.7179e-07,  2.4772e+08,  1.7179e-07,  1.7179e-07],\n",
              "          [ 7.7052e+31,  7.7052e+31,  7.7052e+31,  7.7052e+31,  7.7052e+31],\n",
              "          [ 7.2148e+22,  7.2148e+22,  7.2148e+22,  7.2148e+22,  7.2148e+22]]]])"
            ]
          },
          "metadata": {},
          "execution_count": 45
        }
      ]
    },
    {
      "cell_type": "code",
      "source": [
        "z.size()"
      ],
      "metadata": {
        "colab": {
          "base_uri": "https://localhost:8080/"
        },
        "id": "8JOE8WEgd_nx",
        "outputId": "ba7b2b3a-ac2b-4938-c274-44c757678e3c"
      },
      "execution_count": 46,
      "outputs": [
        {
          "output_type": "execute_result",
          "data": {
            "text/plain": [
              "torch.Size([5, 4, 3, 5])"
            ]
          },
          "metadata": {},
          "execution_count": 46
        }
      ]
    },
    {
      "cell_type": "code",
      "source": [
        "#Vector Multiplication\n",
        "A = torch.tensor([[10, 5, 5, 6]])\n",
        "B = torch.tensor([[56], [120], [574], [80]])"
      ],
      "metadata": {
        "id": "iEWeMq0seDZU"
      },
      "execution_count": 51,
      "outputs": []
    },
    {
      "cell_type": "code",
      "source": [
        "C = torch.mul(A,B)"
      ],
      "metadata": {
        "id": "TAxkX8OOeh4O"
      },
      "execution_count": 52,
      "outputs": []
    },
    {
      "cell_type": "code",
      "source": [
        "C"
      ],
      "metadata": {
        "colab": {
          "base_uri": "https://localhost:8080/"
        },
        "id": "_8zdEIk9enm5",
        "outputId": "c7644d2f-7b5e-4214-b2a1-24e853cae962"
      },
      "execution_count": 53,
      "outputs": [
        {
          "output_type": "execute_result",
          "data": {
            "text/plain": [
              "tensor([[ 560,  280,  280,  336],\n",
              "        [1200,  600,  600,  720],\n",
              "        [5740, 2870, 2870, 3444],\n",
              "        [ 800,  400,  400,  480]])"
            ]
          },
          "metadata": {},
          "execution_count": 53
        }
      ]
    },
    {
      "cell_type": "code",
      "source": [
        "#Transpose\n",
        "x = torch.randint(0, 20, [4,5])"
      ],
      "metadata": {
        "id": "n_f0fXYufDWW"
      },
      "execution_count": 54,
      "outputs": []
    },
    {
      "cell_type": "code",
      "source": [
        "x"
      ],
      "metadata": {
        "colab": {
          "base_uri": "https://localhost:8080/"
        },
        "id": "cG3B7ySafk0g",
        "outputId": "f5739d21-24cd-47d0-826a-ec190203ee86"
      },
      "execution_count": 55,
      "outputs": [
        {
          "output_type": "execute_result",
          "data": {
            "text/plain": [
              "tensor([[13,  2, 10,  9, 12],\n",
              "        [17, 11, 11,  9, 11],\n",
              "        [ 3,  2, 18,  5, 11],\n",
              "        [ 4,  9,  4,  8, 10]])"
            ]
          },
          "metadata": {},
          "execution_count": 55
        }
      ]
    },
    {
      "cell_type": "code",
      "source": [
        "x.size()"
      ],
      "metadata": {
        "colab": {
          "base_uri": "https://localhost:8080/"
        },
        "id": "etoV8PSHfs2J",
        "outputId": "731369da-b2c2-41d8-cbb2-045d15ad2091"
      },
      "execution_count": 56,
      "outputs": [
        {
          "output_type": "execute_result",
          "data": {
            "text/plain": [
              "torch.Size([4, 5])"
            ]
          },
          "metadata": {},
          "execution_count": 56
        }
      ]
    },
    {
      "cell_type": "code",
      "source": [
        "y = torch.transpose(x, 0, 1)"
      ],
      "metadata": {
        "id": "eA0j22PDfluF"
      },
      "execution_count": 57,
      "outputs": []
    },
    {
      "cell_type": "code",
      "source": [
        "y.size()"
      ],
      "metadata": {
        "colab": {
          "base_uri": "https://localhost:8080/"
        },
        "id": "kL-NrUmufxVe",
        "outputId": "bc89b445-924f-4c89-8616-273c882ccc6e"
      },
      "execution_count": 58,
      "outputs": [
        {
          "output_type": "execute_result",
          "data": {
            "text/plain": [
              "torch.Size([5, 4])"
            ]
          },
          "metadata": {},
          "execution_count": 58
        }
      ]
    },
    {
      "cell_type": "code",
      "source": [
        "y"
      ],
      "metadata": {
        "colab": {
          "base_uri": "https://localhost:8080/"
        },
        "id": "F1JyFJLdfyzG",
        "outputId": "002161b9-a6c2-4666-f115-570a7a3842da"
      },
      "execution_count": 59,
      "outputs": [
        {
          "output_type": "execute_result",
          "data": {
            "text/plain": [
              "tensor([[13, 17,  3,  4],\n",
              "        [ 2, 11,  2,  9],\n",
              "        [10, 11, 18,  4],\n",
              "        [ 9,  9,  5,  8],\n",
              "        [12, 11, 11, 10]])"
            ]
          },
          "metadata": {},
          "execution_count": 59
        }
      ]
    },
    {
      "cell_type": "code",
      "source": [
        "#Indexing & Slicing\n",
        "y"
      ],
      "metadata": {
        "colab": {
          "base_uri": "https://localhost:8080/"
        },
        "id": "f6M07085gBK5",
        "outputId": "b62a9cfa-db73-45ea-d419-900dbdc22d39"
      },
      "execution_count": 60,
      "outputs": [
        {
          "output_type": "execute_result",
          "data": {
            "text/plain": [
              "tensor([[13, 17,  3,  4],\n",
              "        [ 2, 11,  2,  9],\n",
              "        [10, 11, 18,  4],\n",
              "        [ 9,  9,  5,  8],\n",
              "        [12, 11, 11, 10]])"
            ]
          },
          "metadata": {},
          "execution_count": 60
        }
      ]
    },
    {
      "cell_type": "code",
      "source": [
        "y[0][0].item()"
      ],
      "metadata": {
        "colab": {
          "base_uri": "https://localhost:8080/"
        },
        "id": "m0RYvLFWgJIh",
        "outputId": "63b3b66c-4d91-4881-8b41-92bf151d7268"
      },
      "execution_count": 62,
      "outputs": [
        {
          "output_type": "execute_result",
          "data": {
            "text/plain": [
              "13"
            ]
          },
          "metadata": {},
          "execution_count": 62
        }
      ]
    },
    {
      "cell_type": "code",
      "source": [
        "t13 = torch.rand(5,4,7)"
      ],
      "metadata": {
        "id": "HqvVvwdWgMOy"
      },
      "execution_count": 63,
      "outputs": []
    },
    {
      "cell_type": "code",
      "source": [
        "t13"
      ],
      "metadata": {
        "colab": {
          "base_uri": "https://localhost:8080/"
        },
        "id": "EbSfvSVrgUkJ",
        "outputId": "410566fe-c071-46de-b227-2aec84154983"
      },
      "execution_count": 64,
      "outputs": [
        {
          "output_type": "execute_result",
          "data": {
            "text/plain": [
              "tensor([[[0.6863, 0.5250, 0.4418, 0.6228, 0.3498, 0.1790, 0.3991],\n",
              "         [0.3900, 0.7282, 0.3445, 0.6651, 0.2682, 0.7359, 0.8455],\n",
              "         [0.0891, 0.3389, 0.9752, 0.7765, 0.7043, 0.9205, 0.3741],\n",
              "         [0.7656, 0.8634, 0.1093, 0.8786, 0.4128, 0.5154, 0.9174]],\n",
              "\n",
              "        [[0.0105, 0.6375, 0.8607, 0.7044, 0.0856, 0.5160, 0.5350],\n",
              "         [0.4019, 0.7250, 0.1578, 0.2063, 0.1348, 0.4013, 0.8916],\n",
              "         [0.3743, 0.2834, 0.6497, 0.0680, 0.3457, 0.3595, 0.9763],\n",
              "         [0.9970, 0.6772, 0.5536, 0.1849, 0.7980, 0.0060, 0.4071]],\n",
              "\n",
              "        [[0.3278, 0.9616, 0.0132, 0.9604, 0.1443, 0.1845, 0.4549],\n",
              "         [0.2840, 0.4182, 0.3893, 0.6091, 0.4460, 0.5278, 0.6391],\n",
              "         [0.0366, 0.3245, 0.1854, 0.7663, 0.8893, 0.5992, 0.2759],\n",
              "         [0.5291, 0.9314, 0.5188, 0.9592, 0.1242, 0.9263, 0.3844]],\n",
              "\n",
              "        [[0.0176, 0.3117, 0.6168, 0.6256, 0.4351, 0.4638, 0.4921],\n",
              "         [0.6663, 0.2387, 0.1020, 0.7301, 0.1710, 0.8307, 0.2013],\n",
              "         [0.5837, 0.7290, 0.2721, 0.4599, 0.1913, 0.6386, 0.4978],\n",
              "         [0.0097, 0.2755, 0.5468, 0.5641, 0.2483, 0.1246, 0.7757]],\n",
              "\n",
              "        [[0.2608, 0.3083, 0.1283, 0.1286, 0.8034, 0.3841, 0.6336],\n",
              "         [0.0089, 0.8299, 0.6222, 0.9420, 0.2988, 0.8034, 0.6742],\n",
              "         [0.2983, 0.8755, 0.0848, 0.9379, 0.6230, 0.0796, 0.1610],\n",
              "         [0.1489, 0.9121, 0.8691, 0.6168, 0.5029, 0.3284, 0.1186]]])"
            ]
          },
          "metadata": {},
          "execution_count": 64
        }
      ]
    },
    {
      "cell_type": "code",
      "source": [
        "t13[4][3][-1]"
      ],
      "metadata": {
        "colab": {
          "base_uri": "https://localhost:8080/"
        },
        "id": "qMK4vRN1gV7M",
        "outputId": "bd10a4e8-7104-4b76-ee23-52b092b5a9ca"
      },
      "execution_count": 66,
      "outputs": [
        {
          "output_type": "execute_result",
          "data": {
            "text/plain": [
              "tensor(0.1186)"
            ]
          },
          "metadata": {},
          "execution_count": 66
        }
      ]
    },
    {
      "cell_type": "code",
      "source": [
        "t13[1:3]"
      ],
      "metadata": {
        "colab": {
          "base_uri": "https://localhost:8080/"
        },
        "id": "sAVB5AqaglHr",
        "outputId": "dea2b358-dbd8-41b0-e106-5458e65a102a"
      },
      "execution_count": 67,
      "outputs": [
        {
          "output_type": "execute_result",
          "data": {
            "text/plain": [
              "tensor([[[0.0105, 0.6375, 0.8607, 0.7044, 0.0856, 0.5160, 0.5350],\n",
              "         [0.4019, 0.7250, 0.1578, 0.2063, 0.1348, 0.4013, 0.8916],\n",
              "         [0.3743, 0.2834, 0.6497, 0.0680, 0.3457, 0.3595, 0.9763],\n",
              "         [0.9970, 0.6772, 0.5536, 0.1849, 0.7980, 0.0060, 0.4071]],\n",
              "\n",
              "        [[0.3278, 0.9616, 0.0132, 0.9604, 0.1443, 0.1845, 0.4549],\n",
              "         [0.2840, 0.4182, 0.3893, 0.6091, 0.4460, 0.5278, 0.6391],\n",
              "         [0.0366, 0.3245, 0.1854, 0.7663, 0.8893, 0.5992, 0.2759],\n",
              "         [0.5291, 0.9314, 0.5188, 0.9592, 0.1242, 0.9263, 0.3844]]])"
            ]
          },
          "metadata": {},
          "execution_count": 67
        }
      ]
    },
    {
      "cell_type": "code",
      "source": [
        "#Reverse Indexing"
      ],
      "metadata": {
        "id": "7KYb2xwXg1t1"
      },
      "execution_count": 74,
      "outputs": []
    },
    {
      "cell_type": "code",
      "source": [
        "t14 = torch.flip(t13, [0,1])"
      ],
      "metadata": {
        "id": "7Wks9ZqfhElN"
      },
      "execution_count": 69,
      "outputs": []
    },
    {
      "cell_type": "code",
      "source": [
        "y"
      ],
      "metadata": {
        "colab": {
          "base_uri": "https://localhost:8080/"
        },
        "id": "oru-IE2QhKlV",
        "outputId": "3d5d7d58-1d23-475e-b21b-85e42bebef44"
      },
      "execution_count": 71,
      "outputs": [
        {
          "output_type": "execute_result",
          "data": {
            "text/plain": [
              "tensor([[13, 17,  3,  4],\n",
              "        [ 2, 11,  2,  9],\n",
              "        [10, 11, 18,  4],\n",
              "        [ 9,  9,  5,  8],\n",
              "        [12, 11, 11, 10]])"
            ]
          },
          "metadata": {},
          "execution_count": 71
        }
      ]
    },
    {
      "cell_type": "code",
      "source": [
        "y = torch.flip(y, [0,1])"
      ],
      "metadata": {
        "id": "5cHslmANhQFW"
      },
      "execution_count": 72,
      "outputs": []
    },
    {
      "cell_type": "code",
      "source": [
        "y"
      ],
      "metadata": {
        "colab": {
          "base_uri": "https://localhost:8080/"
        },
        "id": "hSYDFPwfhdA6",
        "outputId": "0b8468b5-0698-406d-b5bf-8dcf3062b01d"
      },
      "execution_count": 73,
      "outputs": [
        {
          "output_type": "execute_result",
          "data": {
            "text/plain": [
              "tensor([[10, 11, 11, 12],\n",
              "        [ 8,  5,  9,  9],\n",
              "        [ 4, 18, 11, 10],\n",
              "        [ 9,  2, 11,  2],\n",
              "        [ 4,  3, 17, 13]])"
            ]
          },
          "metadata": {},
          "execution_count": 73
        }
      ]
    },
    {
      "cell_type": "code",
      "source": [],
      "metadata": {
        "id": "L3DNJr7nhebA"
      },
      "execution_count": null,
      "outputs": []
    }
  ]
}