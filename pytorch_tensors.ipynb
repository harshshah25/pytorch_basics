{
  "nbformat": 4,
  "nbformat_minor": 0,
  "metadata": {
    "colab": {
      "provenance": [],
      "authorship_tag": "ABX9TyP3f+KUQ+elas9N8QCyA+Jh",
      "include_colab_link": true
    },
    "kernelspec": {
      "name": "python3",
      "display_name": "Python 3"
    },
    "language_info": {
      "name": "python"
    }
  },
  "cells": [
    {
      "cell_type": "markdown",
      "metadata": {
        "id": "view-in-github",
        "colab_type": "text"
      },
      "source": [
        "<a href=\"https://colab.research.google.com/github/harshshah25/pytorch_basics/blob/main/pytorch_tensors.ipynb\" target=\"_parent\"><img src=\"https://colab.research.google.com/assets/colab-badge.svg\" alt=\"Open In Colab\"/></a>"
      ]
    },
    {
      "cell_type": "code",
      "execution_count": 1,
      "metadata": {
        "id": "kza841OfoNgk"
      },
      "outputs": [],
      "source": [
        "import torch\n",
        "import numpy as np"
      ]
    },
    {
      "cell_type": "code",
      "source": [
        "x = torch.empty(3)\n",
        "x"
      ],
      "metadata": {
        "colab": {
          "base_uri": "https://localhost:8080/"
        },
        "id": "9kjG792RdIDO",
        "outputId": "42b3376e-bbe0-43bf-f4b6-bb2d22d8cb61"
      },
      "execution_count": 2,
      "outputs": [
        {
          "output_type": "execute_result",
          "data": {
            "text/plain": [
              "tensor([7.4110e+00, 4.3307e-41, 7.4103e+00])"
            ]
          },
          "metadata": {},
          "execution_count": 2
        }
      ]
    },
    {
      "cell_type": "code",
      "source": [
        "x = torch.empty(2, 3)\n",
        "print(x)"
      ],
      "metadata": {
        "colab": {
          "base_uri": "https://localhost:8080/"
        },
        "id": "SEF2fdXQdPKl",
        "outputId": "430946bb-13dc-4b69-9be1-b0e8e09863d0"
      },
      "execution_count": 4,
      "outputs": [
        {
          "output_type": "stream",
          "name": "stdout",
          "text": [
            "tensor([[2.4178e-18, 3.1360e+27, 7.0800e+31],\n",
            "        [3.1095e-18, 2.9907e+21, 1.1626e+27]])\n"
          ]
        }
      ]
    },
    {
      "cell_type": "code",
      "source": [
        "x = torch.rand(2, 3)\n",
        "print(x)"
      ],
      "metadata": {
        "colab": {
          "base_uri": "https://localhost:8080/"
        },
        "id": "Ao4psh8mdWmO",
        "outputId": "090b643b-ad9e-477e-a407-539970993629"
      },
      "execution_count": 5,
      "outputs": [
        {
          "output_type": "stream",
          "name": "stdout",
          "text": [
            "tensor([[0.0294, 0.3408, 0.2388],\n",
            "        [0.7285, 0.0623, 0.9061]])\n"
          ]
        }
      ]
    },
    {
      "cell_type": "code",
      "source": [
        "x = torch.ones(4, 4, dtype = torch.int)\n",
        "print(x)\n",
        "print(x.size())"
      ],
      "metadata": {
        "colab": {
          "base_uri": "https://localhost:8080/"
        },
        "id": "7cnQdzzadkeq",
        "outputId": "58a8ac8d-b4a5-4ce3-8e24-9c797ef72170"
      },
      "execution_count": 7,
      "outputs": [
        {
          "output_type": "stream",
          "name": "stdout",
          "text": [
            "tensor([[1, 1, 1, 1],\n",
            "        [1, 1, 1, 1],\n",
            "        [1, 1, 1, 1],\n",
            "        [1, 1, 1, 1]], dtype=torch.int32)\n",
            "torch.Size([4, 4])\n"
          ]
        }
      ]
    },
    {
      "cell_type": "code",
      "source": [
        "x = torch.tensor([2.5, 0.1])\n",
        "print(x)"
      ],
      "metadata": {
        "colab": {
          "base_uri": "https://localhost:8080/"
        },
        "id": "PIVTefA3d8hc",
        "outputId": "a758e86c-a588-4a3a-8dcb-1cc78b9658d9"
      },
      "execution_count": 8,
      "outputs": [
        {
          "output_type": "stream",
          "name": "stdout",
          "text": [
            "tensor([2.5000, 0.1000])\n"
          ]
        }
      ]
    },
    {
      "cell_type": "code",
      "source": [
        "a = np.ones(5)\n",
        "b = torch.from_numpy(a)\n",
        "print(b)"
      ],
      "metadata": {
        "colab": {
          "base_uri": "https://localhost:8080/"
        },
        "id": "6djrpLD1eXsB",
        "outputId": "d3a71371-a448-4717-822b-acb7092ebc40"
      },
      "execution_count": 9,
      "outputs": [
        {
          "output_type": "stream",
          "name": "stdout",
          "text": [
            "tensor([1., 1., 1., 1., 1.], dtype=torch.float64)\n"
          ]
        }
      ]
    },
    {
      "cell_type": "code",
      "source": [
        "a += 1\n",
        "print(b)"
      ],
      "metadata": {
        "colab": {
          "base_uri": "https://localhost:8080/"
        },
        "id": "TEKePm6Oe6Jq",
        "outputId": "ad38ef31-ed80-4535-9b6f-7719c2e9538b"
      },
      "execution_count": 10,
      "outputs": [
        {
          "output_type": "stream",
          "name": "stdout",
          "text": [
            "tensor([2., 2., 2., 2., 2.], dtype=torch.float64)\n"
          ]
        }
      ]
    },
    {
      "cell_type": "code",
      "source": [
        "x = torch.rand(2, 2)\n",
        "y = torch.rand(2, 2)\n",
        "print(x)\n",
        "print(y)"
      ],
      "metadata": {
        "colab": {
          "base_uri": "https://localhost:8080/"
        },
        "id": "6_mQEDnMe8L2",
        "outputId": "4aadf9f2-5419-47c0-9678-3ecce81182d4"
      },
      "execution_count": 11,
      "outputs": [
        {
          "output_type": "stream",
          "name": "stdout",
          "text": [
            "tensor([[0.1272, 0.0586],\n",
            "        [0.2885, 0.4148]])\n",
            "tensor([[0.1945, 0.2159],\n",
            "        [0.6330, 0.9644]])\n"
          ]
        }
      ]
    },
    {
      "cell_type": "code",
      "source": [
        "z = x + y\n",
        "print(z)"
      ],
      "metadata": {
        "colab": {
          "base_uri": "https://localhost:8080/"
        },
        "id": "lt9DJSaCfJHg",
        "outputId": "e48c68e3-dbba-4713-d62d-c349e413e3e4"
      },
      "execution_count": 12,
      "outputs": [
        {
          "output_type": "stream",
          "name": "stdout",
          "text": [
            "tensor([[0.3216, 0.2745],\n",
            "        [0.9215, 1.3792]])\n"
          ]
        }
      ]
    },
    {
      "cell_type": "code",
      "source": [
        "#Every function which has an underscore in the end will perform an inplace operation in PyTorch\n",
        "y.add_(x)"
      ],
      "metadata": {
        "colab": {
          "base_uri": "https://localhost:8080/"
        },
        "id": "KT5O3Ld8fcx5",
        "outputId": "bba9188a-93d6-46dc-8643-9ffefe563a93"
      },
      "execution_count": 13,
      "outputs": [
        {
          "output_type": "execute_result",
          "data": {
            "text/plain": [
              "tensor([[0.3216, 0.2745],\n",
              "        [0.9215, 1.3792]])"
            ]
          },
          "metadata": {},
          "execution_count": 13
        }
      ]
    },
    {
      "cell_type": "code",
      "source": [
        "z = torch.sub(x, y)\n",
        "z = torch.mul(x, y)\n",
        "z = torch.div(x, y)"
      ],
      "metadata": {
        "id": "lhJkF5HQfqFY"
      },
      "execution_count": 14,
      "outputs": []
    },
    {
      "cell_type": "code",
      "source": [
        "x = torch.rand(5, 3)\n",
        "print(x)\n",
        "print(x[3, :])"
      ],
      "metadata": {
        "colab": {
          "base_uri": "https://localhost:8080/"
        },
        "id": "Vh7DDWNHf3w6",
        "outputId": "b8ca75e3-67ca-4d08-9490-fef5a4be9d1b"
      },
      "execution_count": 15,
      "outputs": [
        {
          "output_type": "stream",
          "name": "stdout",
          "text": [
            "tensor([[0.2342, 0.0990, 0.3052],\n",
            "        [0.0571, 0.1390, 0.7562],\n",
            "        [0.1006, 0.4707, 0.5530],\n",
            "        [0.6914, 0.1977, 0.8806],\n",
            "        [0.9156, 0.5333, 0.3494]])\n",
            "tensor([0.6914, 0.1977, 0.8806])\n"
          ]
        }
      ]
    },
    {
      "cell_type": "code",
      "source": [
        "print(x[1, 1].item())"
      ],
      "metadata": {
        "colab": {
          "base_uri": "https://localhost:8080/"
        },
        "id": "g4LPFrRNkaKv",
        "outputId": "42dc6f42-c4a2-4360-f695-18153b839b5b"
      },
      "execution_count": 16,
      "outputs": [
        {
          "output_type": "stream",
          "name": "stdout",
          "text": [
            "0.13897037506103516\n"
          ]
        }
      ]
    },
    {
      "cell_type": "code",
      "source": [
        "#Reshaping\n",
        "x = torch.rand(4, 4)\n",
        "y = x.view(16)\n",
        "print(y.size())\n",
        "\n",
        "y = x.view(-1, 2)\n",
        "print(y.size())"
      ],
      "metadata": {
        "colab": {
          "base_uri": "https://localhost:8080/"
        },
        "id": "Ic17rcngkrMY",
        "outputId": "72e4a5d8-fe4b-4f8b-f52f-0faccadbdd17"
      },
      "execution_count": 18,
      "outputs": [
        {
          "output_type": "stream",
          "name": "stdout",
          "text": [
            "torch.Size([16])\n",
            "torch.Size([8, 2])\n"
          ]
        }
      ]
    },
    {
      "cell_type": "code",
      "source": [],
      "metadata": {
        "id": "0naTQAgNnt18"
      },
      "execution_count": 18,
      "outputs": []
    }
  ]
}